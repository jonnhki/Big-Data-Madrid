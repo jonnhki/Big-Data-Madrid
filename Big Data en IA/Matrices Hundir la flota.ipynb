{
 "cells": [
  {
   "cell_type": "markdown",
   "id": "0a828106-c3ba-4ffd-8ff0-fc4b8952513b",
   "metadata": {
    "tags": []
   },
   "source": [
    "hacer una matriz que todos sus valores sean 0"
   ]
  },
  {
   "cell_type": "code",
   "execution_count": 19,
   "id": "7050855f-9126-4a35-a99c-d6cfef0d464b",
   "metadata": {
    "tags": []
   },
   "outputs": [],
   "source": [
    "#matriz a partir de una lista"
   ]
  },
  {
   "cell_type": "code",
   "execution_count": 20,
   "id": "458d7fbb-7f23-4f2f-bf1b-51a91b8c6dfa",
   "metadata": {
    "tags": []
   },
   "outputs": [],
   "source": [
    "a = [0,0,0] #fila\n",
    "b =[a.copy(),a.copy(),a.copy()] #tres filas"
   ]
  },
  {
   "cell_type": "code",
   "execution_count": 21,
   "id": "c2e487f1-8264-4298-88ba-c570e7c01996",
   "metadata": {
    "tags": []
   },
   "outputs": [
    {
     "data": {
      "text/plain": [
       "[[0, 0, 0], [0, 0, 0], [0, 0, 0]]"
      ]
     },
     "execution_count": 21,
     "metadata": {},
     "output_type": "execute_result"
    }
   ],
   "source": [
    "b"
   ]
  },
  {
   "cell_type": "code",
   "execution_count": 22,
   "id": "d5d9c223-874e-4185-92c3-d3c80834552d",
   "metadata": {
    "tags": []
   },
   "outputs": [],
   "source": [
    "columnas = 3\n",
    "filas = 3\n",
    "matriz= list()\n",
    "for i in range(0, filas):\n",
    "    filas=list()\n",
    "    for j in range(0, columnas):\n",
    "        filas.append(0)\n",
    "    matriz.append(filas)"
   ]
  },
  {
   "cell_type": "code",
   "execution_count": 23,
   "id": "6c690e5d-a4fa-44dc-83e4-3389489f3437",
   "metadata": {
    "tags": []
   },
   "outputs": [
    {
     "data": {
      "text/plain": [
       "[[0, 0, 0], [0, 0, 0], [0, 0, 0]]"
      ]
     },
     "execution_count": 23,
     "metadata": {},
     "output_type": "execute_result"
    }
   ],
   "source": [
    "matriz"
   ]
  },
  {
   "cell_type": "markdown",
   "id": "5ca30e15-87db-4f39-8a97-e0ab27ed1ef7",
   "metadata": {},
   "source": [
    "Hacer una matriz que tenga numeros consecutivos de 0, 9 si es de 3*3"
   ]
  },
  {
   "cell_type": "code",
   "execution_count": 24,
   "id": "7d2a8a3b-eb7e-4ee6-910d-f154d0fd5225",
   "metadata": {
    "tags": []
   },
   "outputs": [
    {
     "name": "stdout",
     "output_type": "stream",
     "text": [
      "[0, 1, 2]\n",
      "[3, 4, 5]\n",
      "[6, 7, 8]\n"
     ]
    }
   ],
   "source": [
    "columnas = 3\n",
    "filas = 3\n",
    "matriz = []\n",
    "\n",
    "for i in range(filas):\n",
    "    fila = []\n",
    "    for j in range(columnas):\n",
    "        numero = (i * columnas + j) % 10\n",
    "        # asegura que los números del 0 al 9 se repitan en orden secuencial en la matriz. \n",
    "        #Esto se logra tomando el residuo de la división por 10\n",
    "        fila.append(numero)\n",
    "    matriz.append(fila)\n",
    "\n",
    "for fila in matriz:\n",
    "    print(fila)"
   ]
  },
  {
   "cell_type": "markdown",
   "id": "6c13f01f-6b72-4d48-9053-41557db05a1d",
   "metadata": {},
   "source": [
    "\n",
    "Hundir La Flota Simple\n",
    "Diseñar el juego de hundir la flota (de la forma mas sencilla del mundo)\n",
    "\n",
    "\n",
    "\n",
    "- Un tablero, de las dimensiones que me digan.\n",
    "\n",
    "- Una funcion, que me permita poner un barco\n",
    "\n",
    "- Un función de disparo.\n",
    "\n",
    "- Una funcion que nos diga si se ha hundido.\n",
    "\n",
    "- Tendremos n disparos, y si no hundimos el barco, hemos perdido."
   ]
  },
  {
   "cell_type": "code",
   "execution_count": 25,
   "id": "02273358-48ad-4913-9ed5-cc38d00aec3a",
   "metadata": {
    "tags": []
   },
   "outputs": [
    {
     "name": "stdout",
     "output_type": "stream",
     "text": [
      "[0, 0, 0, 0, 0, 0]\n",
      "[0, 0, 0, 0, 0, 0]\n",
      "[0, 0, 0, 0, 0, 0]\n",
      "[0, 0, 0, 0, 0, 0]\n",
      "[0, 0, 0, 0, 0, 0]\n",
      "[0, 0, 0, 0, 0, 0]\n"
     ]
    }
   ],
   "source": [
    "columnas = 6\n",
    "filas = 6\n",
    "matriz = []\n",
    "\n",
    "for i in range(filas):\n",
    "    fila = []\n",
    "    for j in range(columnas):\n",
    "        fila.append(0)\n",
    "    matriz.append(fila)\n",
    "\n",
    "for fila in matriz:\n",
    "    print(fila)"
   ]
  },
  {
   "cell_type": "code",
   "execution_count": 27,
   "id": "337bc124-97e0-41ee-ac99-e50fd870236f",
   "metadata": {
    "tags": []
   },
   "outputs": [],
   "source": [
    "#Primero realizamos la funcion de colocar el barco\n",
    "def colocar_barco(matriz, fila, columna):\n",
    "    matriz[fila][columna] = 1\n",
    "\n",
    "# después colocamos un barco\n",
    "colocar_barco(matriz, 2, 3)"
   ]
  },
  {
   "cell_type": "code",
   "execution_count": 29,
   "id": "5e73a920-52e1-4243-bb6d-b44781b6dcc1",
   "metadata": {
    "tags": []
   },
   "outputs": [],
   "source": [
    "colocar_barco(matriz, 1, 5)"
   ]
  },
  {
   "cell_type": "code",
   "execution_count": 30,
   "id": "adbc433d-35b6-4b84-94ba-b5e697c45d47",
   "metadata": {
    "tags": []
   },
   "outputs": [
    {
     "name": "stdout",
     "output_type": "stream",
     "text": [
      "[0, 0, 0, 0, 0, 0]\n",
      "[0, 0, 0, 0, 0, 1]\n",
      "[0, 0, 0, 1, 0, 0]\n",
      "[0, 0, 0, 0, 0, 0]\n",
      "[0, 0, 0, 0, 0, 0]\n",
      "[0, 0, 0, 0, 0, 0]\n"
     ]
    }
   ],
   "source": [
    "for fila in matriz:\n",
    "    print(fila)"
   ]
  },
  {
   "cell_type": "code",
   "execution_count": null,
   "id": "2b97cd36-1f50-4ff7-9842-c486ee6ee9b2",
   "metadata": {},
   "outputs": [],
   "source": []
  }
 ],
 "metadata": {
  "kernelspec": {
   "display_name": "Python 3 (ipykernel)",
   "language": "python",
   "name": "python3"
  },
  "language_info": {
   "codemirror_mode": {
    "name": "ipython",
    "version": 3
   },
   "file_extension": ".py",
   "mimetype": "text/x-python",
   "name": "python",
   "nbconvert_exporter": "python",
   "pygments_lexer": "ipython3",
   "version": "3.11.3"
  }
 },
 "nbformat": 4,
 "nbformat_minor": 5
}
