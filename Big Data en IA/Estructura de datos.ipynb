{
 "cells": [
  {
   "cell_type": "markdown",
   "id": "b055a915-3177-4c0b-87ab-bcb6bc70c8b9",
   "metadata": {},
   "source": [
    "\n",
    "**Estructura de datos.**\n",
    "\n",
    "Crea un notebook en el que aparezca un resumen de lo que se ha impartido en clase. Debe de aparecer :\n",
    "\n",
    "- Qué es una matriz, tanto desde el punto de vista matemático como más de tabla. \n",
    "\n",
    "- Qué es un grafo\n",
    "\n",
    "- Qué es un árbol.\n",
    "\n",
    "Deben de aparecer imágenes (que puedes buscar por internet) para aclarar dichos conceptos."
   ]
  },
  {
   "cell_type": "markdown",
   "id": "c7bf4dfd-47da-4792-b67a-096c776421b6",
   "metadata": {},
   "source": [
    "**Matrices**\n",
    "\n",
    "Desde el punto de vista matemático, una matriz es una función rectangular de números reales. \n",
    "Una matriz se representa por una letra mayúscula, como A, B, C, etc., y se compone de un número de filas y columnas. \n",
    "El número de filas se denomina orden de la matriz y el número de columnas se denomina rango de la matriz.\n",
    "\n",
    "\n",
    "Desde el punto de vista de la tabla, una matriz es una tabla de datos que tiene filas y columnas. \n",
    "Las filas de una matriz se denominan renglones y las columnas de una matriz se denominan columnas."
   ]
  },
  {
   "cell_type": "markdown",
   "id": "75b41a4d-f1de-4bdb-82c3-f134b0862668",
   "metadata": {
    "tags": []
   },
   "source": [
    "![Matrices](https://matematicasies.com/local/cache-vignettes/L250xH118/17df3eb27ba102394f7df3782878e7ac-a0d3b.png?1688051343)"
   ]
  },
  {
   "cell_type": "code",
   "execution_count": 1,
   "id": "08f645c6-5568-481e-904c-4c884f1834a7",
   "metadata": {
    "tags": []
   },
   "outputs": [
    {
     "name": "stdout",
     "output_type": "stream",
     "text": [
      "[1, 5, 3]\n",
      "[6, 3, 5]\n",
      "[4, 8, 8]\n"
     ]
    }
   ],
   "source": [
    "import random\n",
    "\n",
    "columnas = 3\n",
    "filas = 3\n",
    "matriz = []\n",
    "\n",
    "for i in range(0, filas):\n",
    "    fila = []\n",
    "    for j in range(0, columnas):\n",
    "        fila.append(random.randint(1, 10))\n",
    "    matriz.append(fila)\n",
    "\n",
    "for fila in matriz:\n",
    "    print(fila)"
   ]
  },
  {
   "cell_type": "markdown",
   "id": "c6133cf5-2368-4f77-ac2f-d5ec76de4bd2",
   "metadata": {},
   "source": [
    "**Grafos**\n",
    "\n",
    "Un grafo es una estructura matemática que representa relaciones entre objetos. Los objetos se llaman nodos y las relaciones se llaman aristas.\n",
    "Un grafo se puede representar de varias maneras. Una manera es utilizar un diagrama de puntos y líneas. En un diagrama de puntos y líneas, los nodos se representan como puntos y las aristas se representan como líneas que conectan los puntos.\n",
    "\n",
    "En Python, los grafos se pueden representar de varias maneras. Una manera es utilizar la clase Graph del módulo networkx. La clase Graph tiene una serie de métodos para crear, manipular y analizar grafos.\n",
    "Otra manera de representar un grafo en Python es utilizar una lista de listas. En este caso, cada lista representa un nodo y cada elemento de la lista representa una arista que sale del nodo."
   ]
  },
  {
   "cell_type": "markdown",
   "id": "39b648d9-73ea-4154-8ac2-993c46350ecb",
   "metadata": {},
   "source": [
    "![Matrices](https://1.bp.blogspot.com/-9PqQ5RGbgFc/Xj_4DL9kzgI/AAAAAAAACBE/-iu7O2nXjJsn2Wz7GkwGELzlnK6MFdOIwCLcBGAsYHQ/s1600/grafoponderado.jpg)"
   ]
  },
  {
   "cell_type": "markdown",
   "id": "a2352232-49f8-4ea4-b368-1e785fcbb8b3",
   "metadata": {},
   "source": [
    "Nos valdremos de la librería NetworkX para poder realizar el grafo"
   ]
  },
  {
   "cell_type": "code",
   "execution_count": 2,
   "id": "fd67f79e-3cbb-443f-b3b6-496a60071c65",
   "metadata": {
    "tags": []
   },
   "outputs": [],
   "source": [
    "import networkx as nx"
   ]
  },
  {
   "cell_type": "markdown",
   "id": "2cbcf614-79c2-45d9-81b3-e56b49367b15",
   "metadata": {},
   "source": [
    " Con el siguiente código vamos a crear un pequeño grafo que relaciona a Kevin Bacon con otros actores con los que ha trabajado"
   ]
  },
  {
   "cell_type": "code",
   "execution_count": 3,
   "id": "e7848485-b40a-4999-a5e4-c9a6d8bef5f7",
   "metadata": {
    "tags": []
   },
   "outputs": [],
   "source": [
    " # Crear un grafo\n",
    "G = nx.Graph()"
   ]
  },
  {
   "cell_type": "markdown",
   "id": "60179f44-5d92-4ea2-ab0c-3a68d7b2e44f",
   "metadata": {},
   "source": [
    "Para añadir nodos usamos add_node() para añadir un sólo nodo o add_nodes_from() para añadir varios de una vez"
   ]
  },
  {
   "cell_type": "code",
   "execution_count": 4,
   "id": "42165eda-1ce7-4569-b941-0f2ccb10b100",
   "metadata": {
    "tags": []
   },
   "outputs": [],
   "source": [
    "# Añadimos nodos\n",
    "G.add_node(\"Kevin Bacon\")\n",
    "G.add_node(\"Tom Hanks\")\n",
    "G.add_nodes_from([\"Meg Ryan\", \"Parker Posey\", \"Lisa Kudrow\"])"
   ]
  },
  {
   "cell_type": "markdown",
   "id": "662e46bc-586b-4bc7-aae6-d1e5df468038",
   "metadata": {},
   "source": [
    "Para las aristas usamos add_edge() o add_edges_from() dependiendo de si queremos agregar una o varias aristas."
   ]
  },
  {
   "cell_type": "code",
   "execution_count": 5,
   "id": "688f8375-a70f-49c8-8df0-08c93a6832e8",
   "metadata": {
    "tags": []
   },
   "outputs": [],
   "source": [
    "# Añadimos aristas\n",
    "G.add_edge(\"Kevin Bacon\", \"Tom Hanks\")\n",
    "G.add_edge(\"Kevin Bacon\", \"Meg Ryan\")\n",
    "G.add_edges_from([(\"Tom Hanks\", \"Meg Ryan\"), (\"Tom Hanks\", \"Parker Posey\")])\n",
    "G.add_edges_from([(\"Parker Posey\", \"Meg Ryan\"), (\"Parker Posey\", \"Lisa Kudrow\")])"
   ]
  },
  {
   "cell_type": "markdown",
   "id": "897a8233-6879-44b2-993f-1db56ad48419",
   "metadata": {},
   "source": [
    "Si queremos saber el número de nodos y aristas, o qué elementos lo componen, podemos hacerlo con:"
   ]
  },
  {
   "cell_type": "code",
   "execution_count": 6,
   "id": "9a269727-d748-45b8-b42d-575cd128fe8a",
   "metadata": {
    "tags": []
   },
   "outputs": [
    {
     "name": "stdout",
     "output_type": "stream",
     "text": [
      "5\n",
      "6\n",
      "['Kevin Bacon', 'Tom Hanks', 'Meg Ryan', 'Parker Posey', 'Lisa Kudrow']\n",
      "[('Kevin Bacon', 'Tom Hanks'), ('Kevin Bacon', 'Meg Ryan'), ('Tom Hanks', 'Meg Ryan'), ('Tom Hanks', 'Parker Posey'), ('Meg Ryan', 'Parker Posey'), ('Parker Posey', 'Lisa Kudrow')]\n"
     ]
    }
   ],
   "source": [
    "print(len(G.nodes))\n",
    "print(len(G.edges))\n",
    "print(G.nodes)\n",
    "print(G.edges)"
   ]
  },
  {
   "cell_type": "markdown",
   "id": "4515c20e-b901-470a-a49a-9a21dbb09d9f",
   "metadata": {
    "tags": []
   },
   "source": [
    "Es posible asignar atributos, por ejemplo, podemos especificar que Tom Hanks tiene dos Oscars,  podemos añadir un atributo que sea la película en la que ambos han coincidido."
   ]
  },
  {
   "cell_type": "code",
   "execution_count": 7,
   "id": "e5a07958-34b1-4b82-bc58-f58121e58a9f",
   "metadata": {
    "tags": []
   },
   "outputs": [],
   "source": [
    "# asignar atributos a nodos y aristas\n",
    "G.nodes[\"Tom Hanks\"][\"oscars\"] = 2\n",
    "G.edges[\"Kevin Bacon\", \"Tom Hanks\"][\"pelicula\"] = \"Apolo 13\"\n",
    "G.edges[\"Kevin Bacon\", \"Meg Ryan\"][\"pelicula\"] = \"En carne viva\"\n",
    "G.edges[\"Parker Posey\", \"Meg Ryan\"][\"pelicula\"] = \"Algo para recordar\"\n",
    "G.edges[\"Parker Posey\", \"Tom Hanks\"][\"pelicula\"] = \"Tienes un email\"\n",
    "G.edges[\"Parker Posey\", \"Lisa Kudrow\"][\"pelicula\"] = \"Esperando la hora\""
   ]
  },
  {
   "cell_type": "code",
   "execution_count": 8,
   "id": "af883f56-75bc-46f1-adcd-a4609ae04f18",
   "metadata": {
    "tags": []
   },
   "outputs": [],
   "source": [
    "import matplotlib.pyplot as plt"
   ]
  },
  {
   "cell_type": "code",
   "execution_count": 9,
   "id": "9542e533-2560-400b-925b-919167741cea",
   "metadata": {
    "tags": []
   },
   "outputs": [
    {
     "data": {
      "image/png": "[encoded data removed]",
      "text/plain": [
       "<Figure size 300x200 with 1 Axes>"
      ]
     },
     "metadata": {},
     "output_type": "display_data"
    }
   ],
   "source": [
    "fig, ax = plt.subplots(figsize=(3,2))\n",
    "nx.draw(G, with_labels=True, ax=ax)"
   ]
  },
  {
   "cell_type": "markdown",
   "id": "46dd6626-4837-4d66-8364-fb27e1d31e3e",
   "metadata": {},
   "source": [
    "**Arbol**\n",
    "\n",
    "En matemáticas, un árbol es una estructura de datos que tiene una raíz, que es el nodo superior, y luego tiene ramas que salen de la raíz llamadas aristas. Cada nodo tiene exactamente un padre, excepto la raíz, que no tiene padre.\n",
    "Los árboles se pueden utilizar para representar una variedad de datos, como encontrar el camino más corto entre dos nodos o encontrar el componente conectado más grande de un árbol.\n",
    "\n",
    "En Python, un árbol es una estructura de datos que se implementa utilizando una lista de listas. En este caso, la lista exterior representa los nodos del árbol, y cada lista interior representa los hijos de un nodo."
   ]
  },
  {
   "cell_type": "markdown",
   "id": "61200969-1761-4865-9468-a869c15f013b",
   "metadata": {
    "tags": []
   },
   "source": [
    "![Matrices](https://i.stack.imgur.com/XcnTS.png)"
   ]
  },
  {
   "cell_type": "markdown",
   "id": "025c781a-2eac-4bb5-84ac-01ba99828b44",
   "metadata": {},
   "source": [
    "**EJERCICIO1**\n",
    "\n",
    "Crea un grafo que represente la amistad entre un grupo de personas. Cada persona puede ser representada por un nodo y las amistades entre las personas pueden ser representadas por aristas. Por ejemplo, si A es amiga de B y de C, el grafo podría tener tres nodos (A, B y C) y tres aristas (A-B, A-C y B-C)."
   ]
  },
  {
   "cell_type": "code",
   "execution_count": 10,
   "id": "0f011729-1fc9-4cb6-9e0b-4710e44e6d4c",
   "metadata": {
    "tags": []
   },
   "outputs": [],
   "source": [
    "# Función para mostrar las amistades con cada persona\n",
    "def mostrar_amistades(grafo, persona):\n",
    "    if persona in grafo:\n",
    "        amistades_str = \", \".join(grafo[persona])\n",
    "        print(f\"{persona} es amig@ de: {amistades_str}\")\n",
    "    else:\n",
    "        print(f\"{persona} no está en el grafo de amistades.\")\n"
   ]
  },
  {
   "cell_type": "code",
   "execution_count": 11,
   "id": "38f5116a-204e-436d-91f7-6f8386253f82",
   "metadata": {
    "tags": []
   },
   "outputs": [],
   "source": [
    "# Representación del grafo como diccionario de personas y sus amistades\n",
    "grafo_amistades = {\n",
    "    'Juan': ['Maria', 'Irene'],\n",
    "    'Maria': ['Juan', 'Pedro', 'Lucas'],\n",
    "    'Pedro': ['Juan', 'Maria'],\n",
    "    'Lucas': ['Maria', 'Pedro'],\n",
    "    'Irene': ['Juan']\n",
    "}"
   ]
  },
  {
   "cell_type": "code",
   "execution_count": 12,
   "id": "d3c49011-ccb1-4a23-84d9-ddd33547d7f2",
   "metadata": {
    "tags": []
   },
   "outputs": [
    {
     "name": "stdout",
     "output_type": "stream",
     "text": [
      "Laura no está en el grafo de amistades.\n"
     ]
    }
   ],
   "source": [
    "mostrar_amistades(grafo_amistades, 'Laura')"
   ]
  },
  {
   "cell_type": "markdown",
   "id": "4e9abbd7-3590-4294-a5cb-075b2ecb1e1d",
   "metadata": {},
   "source": [
    "Y con NetworkX"
   ]
  },
  {
   "cell_type": "code",
   "execution_count": 13,
   "id": "49dc401f-3401-41be-897b-b2ec16456e1d",
   "metadata": {
    "tags": []
   },
   "outputs": [],
   "source": [
    " # Crear un grafo\n",
    "G = nx.Graph()"
   ]
  },
  {
   "cell_type": "code",
   "execution_count": 14,
   "id": "55d3f58d-03c0-4c55-98b2-0c67de688285",
   "metadata": {
    "tags": []
   },
   "outputs": [
    {
     "name": "stdout",
     "output_type": "stream",
     "text": [
      "{'Juan': ['Maria', 'Irene'], 'Maria': ['Juan', 'Pedro', 'Lucas'], 'Irene': ['Juan'], 'Pedro': ['Maria', 'Lucas'], 'Lucas': ['Maria', 'Pedro']}\n"
     ]
    }
   ],
   "source": [
    "# Agregar las relaciones de amistad\n",
    "G.add_edges_from([\n",
    "    ('Juan', 'Maria'),\n",
    "    ('Juan', 'Irene'),\n",
    "    ('Maria', 'Pedro'),\n",
    "    ('Maria', 'Lucas'),\n",
    "    ('Pedro', 'Lucas')\n",
    "])\n",
    "\n",
    "# Obtenemos un diccionario con las amistades de cada persona\n",
    "amistades = {persona: list(G.neighbors(persona)) for persona in G.nodes}\n",
    "\n",
    "print(amistades)"
   ]
  },
  {
   "cell_type": "code",
   "execution_count": 15,
   "id": "ddabd754-a320-491c-aab7-20f4eff5726f",
   "metadata": {
    "tags": []
   },
   "outputs": [
    {
     "data": {
      "image/png": "[encoded data removed]",
      "text/plain": [
       "<Figure size 300x200 with 1 Axes>"
      ]
     },
     "metadata": {},
     "output_type": "display_data"
    }
   ],
   "source": [
    "fig, ax = plt.subplots(figsize=(3,2))\n",
    "nx.draw(G, with_labels=True, ax=ax)"
   ]
  },
  {
   "cell_type": "markdown",
   "id": "85dba934-d9cd-4977-94e0-cc93aa9b9fe9",
   "metadata": {},
   "source": [
    "**EJERCICIO2**\n",
    "\n",
    " Crea una matriz que represente la relación entre diferentes departamentos de una empresa. Cada departamento puede ser representado por una fila y una columna de la matriz. La entrada en la fila i y la columna j puede ser el número de empleados que trabajan en ambos departamentos. Por ejemplo, si el departamento de ventas tiene 10 empleados y el departamento de marketing tiene 5 empleados, la entrada en la fila de ventas y la columna de marketing sería 5."
   ]
  },
  {
   "cell_type": "code",
   "execution_count": 16,
   "id": "a5d78d48-5822-45ac-b9f7-c8622378da3c",
   "metadata": {
    "tags": []
   },
   "outputs": [],
   "source": [
    "#Creamos los departamentos\n",
    "departamentos = ['Ventas', 'Marketing', 'Informatica', 'Produccion']"
   ]
  },
  {
   "cell_type": "code",
   "execution_count": 17,
   "id": "a8910fe1-1bc3-4c8c-b436-cd24f7302fa0",
   "metadata": {
    "tags": []
   },
   "outputs": [],
   "source": [
    "#Creamos los empleados por cada departamento\n",
    "empleados_por_departamento = [10, 5, 8, 6]"
   ]
  },
  {
   "cell_type": "code",
   "execution_count": 18,
   "id": "78ffffc5-e815-430c-8238-e964e2f1c9b0",
   "metadata": {
    "tags": []
   },
   "outputs": [
    {
     "name": "stdout",
     "output_type": "stream",
     "text": [
      "Ventas: [10, 5, 8, 6]\n",
      "Marketing: [5, 5, 5, 5]\n",
      "Informatica: [8, 5, 8, 6]\n",
      "Produccion: [6, 5, 6, 6]\n"
     ]
    }
   ],
   "source": [
    "#Generamos la matriz\n",
    "matriz = []\n",
    "for i in range(len(departamentos)):\n",
    "    fila = []\n",
    "    for j in range(len(departamentos)):\n",
    "        # la matriz se calcula con el mínimo entre el número de empleados en los departamentos\n",
    "        entrada = min(empleados_por_departamento[i], empleados_por_departamento[j])\n",
    "        fila.append(entrada)\n",
    "    matriz.append(fila)\n",
    "for i, departamento in enumerate(departamentos):\n",
    "    print(f\"{departamento}: {matriz[i]}\")"
   ]
  },
  {
   "cell_type": "markdown",
   "id": "0398a452-92f1-4edb-a4a3-742ccd0df569",
   "metadata": {},
   "source": [
    "**EJERCICIO3**\n",
    "\n",
    "Crea un árbol que represente la jerarquía de una empresa. \n",
    "La raíz del árbol puede ser el CEO y los hijos de la raíz pueden ser los vicepresidentes. \n",
    "Los hijos de los vicepresidentes pueden ser los directores y así sucesivamente."
   ]
  },
  {
   "cell_type": "code",
   "execution_count": 19,
   "id": "4665f6da-0a8c-4bd7-a974-ef5fd9022583",
   "metadata": {
    "tags": []
   },
   "outputs": [],
   "source": [
    "jerarquia_empresa = {\n",
    "    'CEO': ['Vicepresidente 1', 'Vicepresidente 2'],\n",
    "    'Vicepresidente 1': ['Director 1', 'Director 2'],\n",
    "    'Vicepresidente 2': ['Director 3', 'Director 4'],\n",
    "    'Director 1': ['Gerente 1', 'Gerente 2'],\n",
    "    'Director 2': ['Gerente 3', 'Gerente 4'],\n",
    "    'Director 3': ['Gerente 5', 'Gerente 6'],\n",
    "    'Director 4': ['Gerente 7', 'Gerente 8'],\n",
    "}"
   ]
  },
  {
   "cell_type": "code",
   "execution_count": 20,
   "id": "5b529c0e-9bcc-4cfe-9170-dc62c342b808",
   "metadata": {
    "tags": []
   },
   "outputs": [],
   "source": [
    "def imprimir_jerarquia(persona, nivel=0):\n",
    "    print('  ' * nivel + persona)\n",
    "    if persona in jerarquia_empresa:\n",
    "        for subordinado in jerarquia_empresa[persona]:\n",
    "            imprimir_jerarquia(subordinado, nivel + 1)"
   ]
  },
  {
   "cell_type": "code",
   "execution_count": 21,
   "id": "f72056aa-3944-48de-a21f-473979267d50",
   "metadata": {
    "tags": []
   },
   "outputs": [
    {
     "name": "stdout",
     "output_type": "stream",
     "text": [
      "CEO\n",
      "  Vicepresidente 1\n",
      "    Director 1\n",
      "      Gerente 1\n",
      "      Gerente 2\n",
      "    Director 2\n",
      "      Gerente 3\n",
      "      Gerente 4\n",
      "  Vicepresidente 2\n",
      "    Director 3\n",
      "      Gerente 5\n",
      "      Gerente 6\n",
      "    Director 4\n",
      "      Gerente 7\n",
      "      Gerente 8\n"
     ]
    }
   ],
   "source": [
    "imprimir_jerarquia('CEO')"
   ]
  }
 ],
 "metadata": {
  "kernelspec": {
   "display_name": "Python 3 (ipykernel)",
   "language": "python",
   "name": "python3"
  },
  "language_info": {
   "codemirror_mode": {
    "name": "ipython",
    "version": 3
   },
   "file_extension": ".py",
   "mimetype": "text/x-python",
   "name": "python",
   "nbconvert_exporter": "python",
   "pygments_lexer": "ipython3",
   "version": "3.11.3"
  }
 },
 "nbformat": 4,
 "nbformat_minor": 5
}
